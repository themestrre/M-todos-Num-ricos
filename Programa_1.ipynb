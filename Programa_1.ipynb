{
  "nbformat": 4,
  "nbformat_minor": 0,
  "metadata": {
    "colab": {
      "provenance": [],
      "toc_visible": true,
      "authorship_tag": "ABX9TyOYc9Qi7+s+OTUTbUYcS2Qp",
      "include_colab_link": true
    },
    "kernelspec": {
      "name": "python3",
      "display_name": "Python 3"
    },
    "language_info": {
      "name": "python"
    }
  },
  "cells": [
    {
      "cell_type": "markdown",
      "metadata": {
        "id": "view-in-github",
        "colab_type": "text"
      },
      "source": [
        "<a href=\"https://colab.research.google.com/github/themestrre/Metodos-Numericos/blob/main/Programa_1.ipynb\" target=\"_parent\"><img src=\"https://colab.research.google.com/assets/colab-badge.svg\" alt=\"Open In Colab\"/></a>"
      ]
    },
    {
      "cell_type": "markdown",
      "source": [
        "**Nome:** Carlos Eduardo Leite de Oliveira\n",
        "\n",
        "**Matricula:** 242104345\n",
        "\n",
        "# **MÉTODOS NUMÉRICOS EM CIÊNCIAS MECÂNICAS**\n",
        "\n",
        "## Programa 1 - Sedimentação de uma esfera em um fluido viscoso\n",
        "\n",
        "### Enunciado da tarefa\n",
        "\n",
        "Baseado nessa contextualização, sua tarefa consiste em escrever um programa de computador (FORTRAN, C++ ou Python) que resolva o problema de sedimentaçãoo de uma esfera em baixo Reynolds na sua forma adimensional utilizando o método de Runge-Kutta de quarta ordem clássico para realizar as seguintes análises:\n",
        "\n",
        "\n"
      ],
      "metadata": {
        "id": "Zoj6VS4_hV6r"
      }
    },
    {
      "cell_type": "code",
      "source": [
        "# Para todos os casos relacionados somente vamos utilizar essas duas biblioteca básicas\n",
        "import numpy as np\n",
        "import matplotlib.pyplot as plt"
      ],
      "metadata": {
        "id": "t_yMGV6Aprks"
      },
      "execution_count": null,
      "outputs": []
    },
    {
      "cell_type": "markdown",
      "source": [
        "1.   Para o caso de $Re \\to 0$ compare a solução analítica com a solução exata para diferentes valores de $St$;\n"
      ],
      "metadata": {
        "id": "XTYuiHHAnGeq"
      }
    },
    {
      "cell_type": "code",
      "source": [
        "# Função que define a EDO dv*/dt* = (1-v*)/St (Forma adimmensional)\n",
        "def f(v, t, St):\n",
        "    return (1 - v)/St"
      ],
      "metadata": {
        "id": "8HTwIeLiotib"
      },
      "execution_count": null,
      "outputs": []
    },
    {
      "cell_type": "code",
      "source": [
        "# Método de Runge-Kutta de quarta ordem\n",
        "def runge_kutta_4(f, v0, t, St):\n",
        "    n = len(t)\n",
        "    v = np.zeros(n)\n",
        "    v[0] = v0\n",
        "    for i in range(n - 1):\n",
        "        h = t[i+1] - t[i]\n",
        "        k1 = f(v[i], t[i], St)\n",
        "        k2 = f(v[i] + 0.5*h*k1, t[i] + 0.5*h, St)\n",
        "        k3 = f(v[i] + 0.5*h*k2, t[i] + 0.5*h, St)\n",
        "        k4 = f(v[i] + h*k3, t[i] + h, St)\n",
        "        v[i+1] = v[i] + (h/6)*(k1 + 2*k2 + 2*k3 + k4)\n",
        "    return v"
      ],
      "metadata": {
        "id": "G7hV5_yQotW8"
      },
      "execution_count": null,
      "outputs": []
    },
    {
      "cell_type": "code",
      "source": [
        "# Solução analítica v*(t*) = 1 - exp(-t*/St)\n",
        "def solucao_analitica(t, St):\n",
        "    return 1 - np.exp(-t/St)"
      ],
      "metadata": {
        "id": "67lxqSNLotIN"
      },
      "execution_count": null,
      "outputs": []
    },
    {
      "cell_type": "code",
      "source": [
        "# Função principal\n",
        "def main():\n",
        "    t_max = 5        # tempo adimensional máximo\n",
        "    n_steps = 1000   # número de passos\n",
        "    t = np.linspace(0, t_max, n_steps)\n",
        "    v0 = 0           # condição inicial: v*(0) = 0\n",
        "\n",
        "    # Valores de Stokes a comparar\n",
        "    Stokes = [0.1, 0.5, 1, 5]\n",
        "\n",
        "    plt.figure(figsize=(10, 6))\n",
        "    for St in Stokes:\n",
        "        v_rk4 = runge_kutta_4(f, v0, t, St)\n",
        "        v_analitica = solucao_analitica(t, St)\n",
        "\n",
        "        plt.plot(t, v_rk4, '--', label=f'RK4 - St={St}')\n",
        "        plt.plot(t, v_analitica, '-', label=f'Analítica - St={St}')\n",
        "\n",
        "    plt.xlabel('t* (tempo adimensional)')\n",
        "    plt.ylabel('v*_z (velocidade adimensional)')\n",
        "    plt.title('Sedimentação de uma Esfera - Comparação RK4 vs Analítica')\n",
        "    #plt.legend()\n",
        "    plt.grid(True)\n",
        "    plt.tight_layout()\n",
        "    plt.show()"
      ],
      "metadata": {
        "id": "87r7ktD4o80j"
      },
      "execution_count": null,
      "outputs": []
    },
    {
      "cell_type": "code",
      "source": [
        "    main()"
      ],
      "metadata": {
        "id": "4bFS0VFtZx6s"
      },
      "execution_count": null,
      "outputs": []
    },
    {
      "cell_type": "markdown",
      "source": [
        "2.   Para um dado cenário varie o passo de tempo e mostre como o refinamento dessa quantidade afeta a qualidade da solução;\n"
      ],
      "metadata": {
        "id": "eNu7dRGmsA7e"
      }
    },
    {
      "cell_type": "code",
      "source": [
        "# Função principal para a resolução da questao 2\n",
        "def main():\n",
        "    St = 0.5          # valor fixo de Stokes\n",
        "    t_max = 5         # tempo final\n",
        "    v0 = 0            # condição inicial\n",
        "\n",
        "    n_steps = 1000   # número de passos\n",
        "    steps_list = [10, 50, 100, 500, 1000, 5000]  # refinamentos de passo de tempo\n",
        "    erros = []\n",
        "\n",
        "    plt.figure(figsize=(10, 6))\n",
        "\n",
        "    for n_steps in steps_list:\n",
        "        t = np.linspace(0, t_max, n_steps)\n",
        "        v_rk4 = runge_kutta_4(f, v0, t, St)\n",
        "        v_analitica = solucao_analitica(t, St)\n",
        "        erro_max = np.max(np.abs(v_rk4 - v_analitica))\n",
        "        erros.append(erro_max)\n",
        "\n",
        "        plt.plot(t, v_rk4, label=f'n={n_steps} (erro={erro_max:.2e})')\n",
        "\n",
        "    plt.plot(t, solucao_analitica(t, St), 'k--', label='Analítica (referência)', linewidth=2)\n",
        "    plt.xlabel('t* (tempo adimensional)')\n",
        "    plt.ylabel('v*_z (velocidade adimensional)')\n",
        "    plt.title(f'Influência do passo de tempo na solução numérica (St={St})')\n",
        "    plt.legend()\n",
        "    plt.grid(True)\n",
        "    plt.tight_layout()\n",
        "    plt.show()\n",
        "\n",
        "    # Plot do erro vs número de passos\n",
        "    plt.figure(figsize=(8, 5))\n",
        "    plt.loglog(steps_list, erros, 'o-')\n",
        "    plt.xlabel('Número de passos (n_steps)')\n",
        "    plt.ylabel('Erro absoluto máximo')\n",
        "    plt.title('Convergência do método RK4 com refinamento de tempo')\n",
        "    plt.grid(True, which=\"both\", ls='--')\n",
        "    plt.tight_layout()\n",
        "    plt.show()"
      ],
      "metadata": {
        "id": "IWrU5s-FtUzr"
      },
      "execution_count": null,
      "outputs": []
    },
    {
      "cell_type": "code",
      "source": [
        "main()"
      ],
      "metadata": {
        "id": "Pz4__VHohiQQ"
      },
      "execution_count": null,
      "outputs": []
    },
    {
      "cell_type": "markdown",
      "source": [
        "3.   Para um pequeno efeito inercial no fluido ($Re \\neq 0$) devemos adicionar uma força de arrasto quadrática ao movimento da esfera, de tal sorte que agora a equação governante (dimensional) do problema é dada por:\n",
        "\n",
        "\\begin{equation}\n",
        "m_p \\frac{dv_z}{dt} = -6\\pi \\eta a v_z - \\frac{9}{4} \\pi \\rho_f a^2 v_z^2 + \\frac{4}{3} \\pi a^3 \\Delta \\rho g\n",
        "\\end{equation}\n",
        "\n",
        "Para esse cenário, adimensionalize a equação do movimento da partícula e  mostre que a versão adimensional dessa equação possui além do número de Stokes uma dependência com o número de Reynolds de partícula $\\text{Re}_s$ baseado na velocidade de Stokes de uma partícula isolada, dado por:\n",
        "\n",
        "\\begin{equation}\n",
        "\\text{Re}_s = \\frac{\\rho_f U_s a}{\\eta}\n",
        "\\end{equation}\n"
      ],
      "metadata": {
        "id": "VFMj4XBCtVej"
      }
    },
    {
      "cell_type": "code",
      "source": [
        "import numpy as np\n",
        "import matplotlib.pyplot as plt\n",
        "\n",
        "# Equação com arrasto linear + quadrático\n",
        "def f_quadratic_drag(t, v, St, Re_s):\n",
        "    return (1 - v - (3/8) * Re_s * v**2) / St\n",
        "\n",
        "# Método de Runge-Kutta de 4ª ordem adaptado\n",
        "def runge_kutta_4_drag(f, v0, t0, tf, dt, St, Re_s):\n",
        "    N = int((tf - t0) / dt)\n",
        "    t_vals = np.linspace(t0, tf, N+1)\n",
        "    v_vals = np.zeros(N+1)\n",
        "    v_vals[0] = v0\n",
        "\n",
        "    for i in range(N):\n",
        "        t = t_vals[i]\n",
        "        v = v_vals[i]\n",
        "        k1 = f(t, v, St, Re_s)\n",
        "        k2 = f(t + dt/2, v + dt*k1/2, St, Re_s)\n",
        "        k3 = f(t + dt/2, v + dt*k2/2, St, Re_s)\n",
        "        k4 = f(t + dt, v + dt*k3, St, Re_s)\n",
        "        v_vals[i+1] = v + (dt/6)*(k1 + 2*k2 + 2*k3 + k4)\n",
        "\n",
        "    return t_vals, v_vals\n",
        "\n",
        "# Parâmetros\n",
        "St = 0.5\n",
        "Res_list = [0.01, 0.1, 1, 5, 10]  # Diferentes efeitos inerciais\n",
        "dt = 0.01\n",
        "tf = 10\n",
        "\n",
        "# Plotando\n",
        "plt.figure(figsize=(10, 6))\n",
        "for Re_s in Res_list:\n",
        "    t, v = runge_kutta_4_drag(f_quadratic_drag, v0=0, t0=0, tf=tf, dt=dt, St=St, Re_s=Re_s)\n",
        "    plt.plot(t, v, label=f'Re_s = {Re_s}')\n",
        "\n",
        "plt.xlabel('t* (tempo adimensional)')\n",
        "plt.ylabel('v_z* (velocidade adimensional)')\n",
        "plt.title('Sedimentação com Arrasto Quadrático (RK4)')\n",
        "plt.legend()\n",
        "plt.grid(True)\n",
        "plt.show()\n",
        "\n",
        "main()"
      ],
      "metadata": {
        "id": "UrTWM3whFmGt"
      },
      "execution_count": null,
      "outputs": []
    },
    {
      "cell_type": "code",
      "source": [],
      "metadata": {
        "id": "Iz6Q_YfRFmkK"
      },
      "execution_count": null,
      "outputs": []
    },
    {
      "cell_type": "markdown",
      "source": [
        "\n",
        "4.   Para este novo cenário, valide seu código com base na solução exata para o problema, que pode ser encontrada no artigo trabalhado nas aulas iniciais do curso [1];\n"
      ],
      "metadata": {
        "id": "q11uogECFm_J"
      }
    },
    {
      "cell_type": "code",
      "source": [
        "# Solução exata segundo Sobral et al. (Eq. 22)\n",
        "def vt_exact(Res):\n",
        "    return (-8 + np.sqrt(64 + 96 * Res)) / (6 * Res)\n",
        "\n",
        "def analytical_solution_sobral(t, Res):\n",
        "    eps = (3 / 8) * Res\n",
        "    vt = vt_exact(Res)\n",
        "    A = 1 + 0.5 * vt\n",
        "    num = (1 + 2 * eps * vt)\n",
        "    denom = (1 - eps * vt) * np.exp((1 + 2 * eps * vt) * t / A) - eps * vt\n",
        "    return vt / (1 + num / denom)\n",
        "\n",
        "# Comparação visual\n",
        "Res = 0.5  # exemplo\n",
        "St = 0.5\n",
        "dt = 0.01\n",
        "tf = 10\n",
        "\n",
        "t_rk, v_rk = runge_kutta_4_drag(f_quadratic_drag, v0=0, t0=0, tf=tf, dt=dt, St=St, Re_s=Res)\n",
        "v_exact = analytical_solution_sobral(t_rk, Res)\n",
        "\n",
        "plt.figure(figsize=(10, 6))\n",
        "plt.plot(t_rk, v_rk, label='RK4 Numérico', color='tab:blue')\n",
        "plt.plot(t_rk, v_exact, '--', label='Solução Analítica (Sobral)', color='tab:orange')\n",
        "plt.xlabel('t*')\n",
        "plt.ylabel('v_z*')\n",
        "plt.title(f'Validação com Solução de Sobral et al. (Re_s = {Res})')\n",
        "plt.grid(True)\n",
        "plt.legend()\n",
        "plt.show()"
      ],
      "metadata": {
        "id": "yfiNZlZKF4M1"
      },
      "execution_count": null,
      "outputs": []
    },
    {
      "cell_type": "code",
      "source": [],
      "metadata": {
        "id": "XUL0U5J9F3k5"
      },
      "execution_count": null,
      "outputs": []
    },
    {
      "cell_type": "markdown",
      "source": [
        "\n",
        "\n",
        "5.   Finalmente, plote o comportamento da solução numérica para diferentes valores de $\\text{Re}_s$ e mostre como a solução numérica se desvia do limite assintótico em que $Re \\to 0$."
      ],
      "metadata": {
        "id": "U3CQY0pCF5WG"
      }
    },
    {
      "cell_type": "code",
      "source": [
        "# Função analítica para Re_s → 0\n",
        "def analytical_stokes_limit(t, St):\n",
        "    return 1 - np.exp(-t / St)\n",
        "\n",
        "# Parâmetros de simulação\n",
        "St = 0.5\n",
        "dt = 0.01\n",
        "tf = 10\n",
        "t_vals = np.arange(0, tf + dt, dt)\n",
        "\n",
        "# Valores de Re_s para testar\n",
        "Res_list = [0, 0.01, 0.1, 0.5, 1, 5]\n",
        "\n",
        "plt.figure(figsize=(10, 6))\n",
        "\n",
        "for Res in Res_list:\n",
        "    if Res == 0:\n",
        "        v = analytical_stokes_limit(t_vals, St)\n",
        "        label = \"Re_s = 0 (Limite Stokes)\"\n",
        "        style = \"--\"\n",
        "    else:\n",
        "        _, v = runge_kutta_4_drag(f_quadratic_drag, v0=0, t0=0, tf=tf, dt=dt, St=St, Re_s=Res)\n",
        "        label = f\"Re_s = {Res}\"\n",
        "        style = \"-\"\n",
        "    plt.plot(t_vals, v, style, label=label)\n",
        "\n",
        "plt.xlabel(\"t* (tempo adimensional)\")\n",
        "plt.ylabel(\"v_z* (velocidade adimensional)\")\n",
        "plt.title(\"Desvio da Solução Numérica em Relação ao Limite Re → 0\")\n",
        "plt.grid(True)\n",
        "plt.legend()\n",
        "plt.show()\n"
      ],
      "metadata": {
        "id": "xj4bac8fviMY"
      },
      "execution_count": null,
      "outputs": []
    }
  ]
}